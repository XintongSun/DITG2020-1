{
 "cells": [
  {
   "cell_type": "code",
   "execution_count": 1,
   "metadata": {
    "collapsed": true
   },
   "outputs": [],
   "source": [
    "import os\n",
    "import pandas as pd\n",
    "import matplotlib.pyplot as plt\n",
    "os.chdir(\"C:/Users/acer_pc/Downloads/visit-patterns-by-census-block-group\")\n",
    "data = pd.read_csv(\"cbg_patterns.csv\")"
   ]
  },
  {
   "cell_type": "markdown",
   "metadata": {},
   "source": [
    "读取数据各属性的基本信息。可看出非空元素个数"
   ]
  },
  {
   "cell_type": "code",
   "execution_count": 2,
   "metadata": {},
   "outputs": [
    {
     "name": "stdout",
     "output_type": "stream",
     "text": [
      "<class 'pandas.core.frame.DataFrame'>\n",
      "RangeIndex: 220735 entries, 0 to 220734\n",
      "Data columns (total 13 columns):\n",
      "census_block_group          220734 non-null float64\n",
      "date_range_start            220735 non-null int64\n",
      "date_range_end              220735 non-null int64\n",
      "raw_visit_count             220629 non-null float64\n",
      "raw_visitor_count           220629 non-null float64\n",
      "visitor_home_cbgs           220735 non-null object\n",
      "visitor_work_cbgs           220735 non-null object\n",
      "distance_from_home          220518 non-null float64\n",
      "related_same_day_brand      220735 non-null object\n",
      "related_same_month_brand    220735 non-null object\n",
      "top_brands                  220735 non-null object\n",
      "popularity_by_hour          220735 non-null object\n",
      "popularity_by_day           220735 non-null object\n",
      "dtypes: float64(4), int64(2), object(7)\n",
      "memory usage: 21.9+ MB\n"
     ]
    }
   ],
   "source": [
    "data.info()"
   ]
  },
  {
   "cell_type": "markdown",
   "metadata": {},
   "source": [
    "查看各项数据的独立元素个数"
   ]
  },
  {
   "cell_type": "code",
   "execution_count": 3,
   "metadata": {},
   "outputs": [
    {
     "data": {
      "text/plain": [
       "census_block_group          220734\n",
       "date_range_start                 1\n",
       "date_range_end                   1\n",
       "raw_visit_count              93774\n",
       "raw_visitor_count            41483\n",
       "visitor_home_cbgs           191832\n",
       "visitor_work_cbgs           166013\n",
       "distance_from_home           70557\n",
       "related_same_day_brand       73198\n",
       "related_same_month_brand    185558\n",
       "top_brands                   98086\n",
       "popularity_by_hour          220630\n",
       "popularity_by_day           220630\n",
       "dtype: int64"
      ]
     },
     "execution_count": 3,
     "metadata": {},
     "output_type": "execute_result"
    }
   ],
   "source": [
    "data.nunique()"
   ]
  },
  {
   "cell_type": "markdown",
   "metadata": {},
   "source": [
    "打印数据前5行"
   ]
  },
  {
   "cell_type": "code",
   "execution_count": 4,
   "metadata": {},
   "outputs": [
    {
     "data": {
      "text/html": [
       "<div>\n",
       "<style>\n",
       "    .dataframe thead tr:only-child th {\n",
       "        text-align: right;\n",
       "    }\n",
       "\n",
       "    .dataframe thead th {\n",
       "        text-align: left;\n",
       "    }\n",
       "\n",
       "    .dataframe tbody tr th {\n",
       "        vertical-align: top;\n",
       "    }\n",
       "</style>\n",
       "<table border=\"1\" class=\"dataframe\">\n",
       "  <thead>\n",
       "    <tr style=\"text-align: right;\">\n",
       "      <th></th>\n",
       "      <th>census_block_group</th>\n",
       "      <th>date_range_start</th>\n",
       "      <th>date_range_end</th>\n",
       "      <th>raw_visit_count</th>\n",
       "      <th>raw_visitor_count</th>\n",
       "      <th>visitor_home_cbgs</th>\n",
       "      <th>visitor_work_cbgs</th>\n",
       "      <th>distance_from_home</th>\n",
       "      <th>related_same_day_brand</th>\n",
       "      <th>related_same_month_brand</th>\n",
       "      <th>top_brands</th>\n",
       "      <th>popularity_by_hour</th>\n",
       "      <th>popularity_by_day</th>\n",
       "    </tr>\n",
       "  </thead>\n",
       "  <tbody>\n",
       "    <tr>\n",
       "      <th>0</th>\n",
       "      <td>1.005951e+10</td>\n",
       "      <td>1538352000</td>\n",
       "      <td>1541030400</td>\n",
       "      <td>75122.0</td>\n",
       "      <td>18314.0</td>\n",
       "      <td>{\"010059501003\":127,\"010059509001\":111,\"010059...</td>\n",
       "      <td>{\"010059501003\":109,\"010810407002\":62,\"0108104...</td>\n",
       "      <td>194724.0</td>\n",
       "      <td>[\"Chick-fil-A\",\"mcdonalds\",\"Marathon Petroleum...</td>\n",
       "      <td>[\"walmart\",\"mcdonalds\",\"Dollar General\",\"Chick...</td>\n",
       "      <td>[\"CrossFit\",\"Health Mart\",\"Coldwell Banker\"]</td>\n",
       "      <td>[2617,2457,2403,2519,2646,3007,3886,7566,5508,...</td>\n",
       "      <td>{\"Monday\":12000,\"Tuesday\":12224,\"Wednesday\":10...</td>\n",
       "    </tr>\n",
       "    <tr>\n",
       "      <th>1</th>\n",
       "      <td>1.009051e+10</td>\n",
       "      <td>1538352000</td>\n",
       "      <td>1541030400</td>\n",
       "      <td>95649.0</td>\n",
       "      <td>38942.0</td>\n",
       "      <td>{\"010730113021\":210,\"010090506022\":205,\"010090...</td>\n",
       "      <td>{\"010890111001\":271,\"010730045001\":269,\"010439...</td>\n",
       "      <td>120587.0</td>\n",
       "      <td>[\"Shell Oil\",\"mcdonalds\",\"Chick-fil-A\",\"Chevron\"]</td>\n",
       "      <td>[\"walmart\",\"mcdonalds\",\"Shell Oil\",\"Chick-fil-...</td>\n",
       "      <td>[]</td>\n",
       "      <td>[6556,6325,6222,6355,6586,7350,8568,8099,7378,...</td>\n",
       "      <td>{\"Monday\":12125,\"Tuesday\":12984,\"Wednesday\":12...</td>\n",
       "    </tr>\n",
       "    <tr>\n",
       "      <th>2</th>\n",
       "      <td>1.047957e+10</td>\n",
       "      <td>1538352000</td>\n",
       "      <td>1541030400</td>\n",
       "      <td>14009.0</td>\n",
       "      <td>3039.0</td>\n",
       "      <td>{\"010479567011\":67,\"010479567021\":60}</td>\n",
       "      <td>{\"010479567021\":52}</td>\n",
       "      <td>67774.0</td>\n",
       "      <td>[\"Dollar General\"]</td>\n",
       "      <td>[\"walmart\",\"Dollar General\",\"mcdonalds\",\"Chevr...</td>\n",
       "      <td>[\"Dollar General\"]</td>\n",
       "      <td>[807,790,796,786,851,951,1134,1797,1355,1241,1...</td>\n",
       "      <td>{\"Monday\":2314,\"Tuesday\":2340,\"Wednesday\":2195...</td>\n",
       "    </tr>\n",
       "    <tr>\n",
       "      <th>3</th>\n",
       "      <td>1.069040e+10</td>\n",
       "      <td>1538352000</td>\n",
       "      <td>1541030400</td>\n",
       "      <td>128169.0</td>\n",
       "      <td>25418.0</td>\n",
       "      <td>{\"010690402013\":370,\"010690402011\":322,\"010690...</td>\n",
       "      <td>{\"010690402024\":313,\"010690415004\":203,\"010450...</td>\n",
       "      <td>42684.0</td>\n",
       "      <td>[\"Chick-fil-A\",\"Sam's Club\",\"Dollar General\",\"...</td>\n",
       "      <td>[\"walmart\",\"Dollar General\",\"mcdonalds\",\"Marat...</td>\n",
       "      <td>[\"Chick-fil-A\",\"Sam's Club\",\"Olive Garden\",\"mc...</td>\n",
       "      <td>[2121,1828,1784,1704,1861,2373,3730,7497,7093,...</td>\n",
       "      <td>{\"Monday\":21141,\"Tuesday\":21143,\"Wednesday\":17...</td>\n",
       "    </tr>\n",
       "    <tr>\n",
       "      <th>4</th>\n",
       "      <td>1.073011e+10</td>\n",
       "      <td>1538352000</td>\n",
       "      <td>1541030400</td>\n",
       "      <td>51453.0</td>\n",
       "      <td>9499.0</td>\n",
       "      <td>{\"010090507001\":183,\"010730113021\":167,\"010730...</td>\n",
       "      <td>{\"010730045001\":140,\"010730027001\":123,\"010730...</td>\n",
       "      <td>18878.0</td>\n",
       "      <td>[\"Chevron\",\"Daylight Donuts\",\"walmart\"]</td>\n",
       "      <td>[\"walmart\",\"Chevron\",\"Dollar General\",\"Shell O...</td>\n",
       "      <td>[\"Chevron\",\"CrossFit\"]</td>\n",
       "      <td>[3804,3716,3686,3672,3735,4115,4855,5946,4526,...</td>\n",
       "      <td>{\"Monday\":8402,\"Tuesday\":8414,\"Wednesday\":8550...</td>\n",
       "    </tr>\n",
       "  </tbody>\n",
       "</table>\n",
       "</div>"
      ],
      "text/plain": [
       "   census_block_group  date_range_start  date_range_end  raw_visit_count  \\\n",
       "0        1.005951e+10        1538352000      1541030400          75122.0   \n",
       "1        1.009051e+10        1538352000      1541030400          95649.0   \n",
       "2        1.047957e+10        1538352000      1541030400          14009.0   \n",
       "3        1.069040e+10        1538352000      1541030400         128169.0   \n",
       "4        1.073011e+10        1538352000      1541030400          51453.0   \n",
       "\n",
       "   raw_visitor_count                                  visitor_home_cbgs  \\\n",
       "0            18314.0  {\"010059501003\":127,\"010059509001\":111,\"010059...   \n",
       "1            38942.0  {\"010730113021\":210,\"010090506022\":205,\"010090...   \n",
       "2             3039.0              {\"010479567011\":67,\"010479567021\":60}   \n",
       "3            25418.0  {\"010690402013\":370,\"010690402011\":322,\"010690...   \n",
       "4             9499.0  {\"010090507001\":183,\"010730113021\":167,\"010730...   \n",
       "\n",
       "                                   visitor_work_cbgs  distance_from_home  \\\n",
       "0  {\"010059501003\":109,\"010810407002\":62,\"0108104...            194724.0   \n",
       "1  {\"010890111001\":271,\"010730045001\":269,\"010439...            120587.0   \n",
       "2                                {\"010479567021\":52}             67774.0   \n",
       "3  {\"010690402024\":313,\"010690415004\":203,\"010450...             42684.0   \n",
       "4  {\"010730045001\":140,\"010730027001\":123,\"010730...             18878.0   \n",
       "\n",
       "                              related_same_day_brand  \\\n",
       "0  [\"Chick-fil-A\",\"mcdonalds\",\"Marathon Petroleum...   \n",
       "1  [\"Shell Oil\",\"mcdonalds\",\"Chick-fil-A\",\"Chevron\"]   \n",
       "2                                 [\"Dollar General\"]   \n",
       "3  [\"Chick-fil-A\",\"Sam's Club\",\"Dollar General\",\"...   \n",
       "4            [\"Chevron\",\"Daylight Donuts\",\"walmart\"]   \n",
       "\n",
       "                            related_same_month_brand  \\\n",
       "0  [\"walmart\",\"mcdonalds\",\"Dollar General\",\"Chick...   \n",
       "1  [\"walmart\",\"mcdonalds\",\"Shell Oil\",\"Chick-fil-...   \n",
       "2  [\"walmart\",\"Dollar General\",\"mcdonalds\",\"Chevr...   \n",
       "3  [\"walmart\",\"Dollar General\",\"mcdonalds\",\"Marat...   \n",
       "4  [\"walmart\",\"Chevron\",\"Dollar General\",\"Shell O...   \n",
       "\n",
       "                                          top_brands  \\\n",
       "0       [\"CrossFit\",\"Health Mart\",\"Coldwell Banker\"]   \n",
       "1                                                 []   \n",
       "2                                 [\"Dollar General\"]   \n",
       "3  [\"Chick-fil-A\",\"Sam's Club\",\"Olive Garden\",\"mc...   \n",
       "4                             [\"Chevron\",\"CrossFit\"]   \n",
       "\n",
       "                                  popularity_by_hour  \\\n",
       "0  [2617,2457,2403,2519,2646,3007,3886,7566,5508,...   \n",
       "1  [6556,6325,6222,6355,6586,7350,8568,8099,7378,...   \n",
       "2  [807,790,796,786,851,951,1134,1797,1355,1241,1...   \n",
       "3  [2121,1828,1784,1704,1861,2373,3730,7497,7093,...   \n",
       "4  [3804,3716,3686,3672,3735,4115,4855,5946,4526,...   \n",
       "\n",
       "                                   popularity_by_day  \n",
       "0  {\"Monday\":12000,\"Tuesday\":12224,\"Wednesday\":10...  \n",
       "1  {\"Monday\":12125,\"Tuesday\":12984,\"Wednesday\":12...  \n",
       "2  {\"Monday\":2314,\"Tuesday\":2340,\"Wednesday\":2195...  \n",
       "3  {\"Monday\":21141,\"Tuesday\":21143,\"Wednesday\":17...  \n",
       "4  {\"Monday\":8402,\"Tuesday\":8414,\"Wednesday\":8550...  "
      ]
     },
     "execution_count": 4,
     "metadata": {},
     "output_type": "execute_result"
    }
   ],
   "source": [
    "data.head()"
   ]
  },
  {
   "cell_type": "markdown",
   "metadata": {},
   "source": [
    "查看数值类型属性的五数概括"
   ]
  },
  {
   "cell_type": "code",
   "execution_count": 5,
   "metadata": {},
   "outputs": [
    {
     "data": {
      "text/html": [
       "<div>\n",
       "<style>\n",
       "    .dataframe thead tr:only-child th {\n",
       "        text-align: right;\n",
       "    }\n",
       "\n",
       "    .dataframe thead th {\n",
       "        text-align: left;\n",
       "    }\n",
       "\n",
       "    .dataframe tbody tr th {\n",
       "        vertical-align: top;\n",
       "    }\n",
       "</style>\n",
       "<table border=\"1\" class=\"dataframe\">\n",
       "  <thead>\n",
       "    <tr style=\"text-align: right;\">\n",
       "      <th></th>\n",
       "      <th>census_block_group</th>\n",
       "      <th>date_range_start</th>\n",
       "      <th>date_range_end</th>\n",
       "      <th>raw_visit_count</th>\n",
       "      <th>raw_visitor_count</th>\n",
       "      <th>distance_from_home</th>\n",
       "    </tr>\n",
       "  </thead>\n",
       "  <tbody>\n",
       "    <tr>\n",
       "      <th>count</th>\n",
       "      <td>2.207340e+05</td>\n",
       "      <td>2.207350e+05</td>\n",
       "      <td>2.207350e+05</td>\n",
       "      <td>2.206290e+05</td>\n",
       "      <td>2.206290e+05</td>\n",
       "      <td>2.205180e+05</td>\n",
       "    </tr>\n",
       "    <tr>\n",
       "      <th>mean</th>\n",
       "      <td>2.870864e+11</td>\n",
       "      <td>1.538352e+09</td>\n",
       "      <td>1.541030e+09</td>\n",
       "      <td>4.793066e+04</td>\n",
       "      <td>1.182032e+04</td>\n",
       "      <td>3.511280e+04</td>\n",
       "    </tr>\n",
       "    <tr>\n",
       "      <th>std</th>\n",
       "      <td>1.640723e+11</td>\n",
       "      <td>0.000000e+00</td>\n",
       "      <td>0.000000e+00</td>\n",
       "      <td>6.252655e+04</td>\n",
       "      <td>3.045832e+04</td>\n",
       "      <td>9.973193e+04</td>\n",
       "    </tr>\n",
       "    <tr>\n",
       "      <th>min</th>\n",
       "      <td>1.001020e+10</td>\n",
       "      <td>1.538352e+09</td>\n",
       "      <td>1.541030e+09</td>\n",
       "      <td>6.000000e+01</td>\n",
       "      <td>5.000000e+01</td>\n",
       "      <td>7.060000e+02</td>\n",
       "    </tr>\n",
       "    <tr>\n",
       "      <th>25%</th>\n",
       "      <td>1.312101e+11</td>\n",
       "      <td>1.538352e+09</td>\n",
       "      <td>1.541030e+09</td>\n",
       "      <td>1.704200e+04</td>\n",
       "      <td>3.430000e+03</td>\n",
       "      <td>8.584000e+03</td>\n",
       "    </tr>\n",
       "    <tr>\n",
       "      <th>50%</th>\n",
       "      <td>2.901900e+11</td>\n",
       "      <td>1.538352e+09</td>\n",
       "      <td>1.541030e+09</td>\n",
       "      <td>3.064000e+04</td>\n",
       "      <td>6.541000e+03</td>\n",
       "      <td>1.461400e+04</td>\n",
       "    </tr>\n",
       "    <tr>\n",
       "      <th>75%</th>\n",
       "      <td>4.200349e+11</td>\n",
       "      <td>1.538352e+09</td>\n",
       "      <td>1.541030e+09</td>\n",
       "      <td>5.667800e+04</td>\n",
       "      <td>1.309900e+04</td>\n",
       "      <td>3.139775e+04</td>\n",
       "    </tr>\n",
       "    <tr>\n",
       "      <th>max</th>\n",
       "      <td>7.803099e+11</td>\n",
       "      <td>1.538352e+09</td>\n",
       "      <td>1.541030e+09</td>\n",
       "      <td>7.179900e+06</td>\n",
       "      <td>6.113949e+06</td>\n",
       "      <td>6.297845e+06</td>\n",
       "    </tr>\n",
       "  </tbody>\n",
       "</table>\n",
       "</div>"
      ],
      "text/plain": [
       "       census_block_group  date_range_start  date_range_end  raw_visit_count  \\\n",
       "count        2.207340e+05      2.207350e+05    2.207350e+05     2.206290e+05   \n",
       "mean         2.870864e+11      1.538352e+09    1.541030e+09     4.793066e+04   \n",
       "std          1.640723e+11      0.000000e+00    0.000000e+00     6.252655e+04   \n",
       "min          1.001020e+10      1.538352e+09    1.541030e+09     6.000000e+01   \n",
       "25%          1.312101e+11      1.538352e+09    1.541030e+09     1.704200e+04   \n",
       "50%          2.901900e+11      1.538352e+09    1.541030e+09     3.064000e+04   \n",
       "75%          4.200349e+11      1.538352e+09    1.541030e+09     5.667800e+04   \n",
       "max          7.803099e+11      1.538352e+09    1.541030e+09     7.179900e+06   \n",
       "\n",
       "       raw_visitor_count  distance_from_home  \n",
       "count       2.206290e+05        2.205180e+05  \n",
       "mean        1.182032e+04        3.511280e+04  \n",
       "std         3.045832e+04        9.973193e+04  \n",
       "min         5.000000e+01        7.060000e+02  \n",
       "25%         3.430000e+03        8.584000e+03  \n",
       "50%         6.541000e+03        1.461400e+04  \n",
       "75%         1.309900e+04        3.139775e+04  \n",
       "max         6.113949e+06        6.297845e+06  "
      ]
     },
     "execution_count": 5,
     "metadata": {},
     "output_type": "execute_result"
    }
   ],
   "source": [
    "data.describe()"
   ]
  },
  {
   "cell_type": "markdown",
   "metadata": {},
   "source": [
    "盒图"
   ]
  },
  {
   "cell_type": "code",
   "execution_count": 15,
   "metadata": {},
   "outputs": [
    {
     "data": {
      "image/png": "[encoded data removed]",
      "text/plain": [
       "<Figure size 432x288 with 1 Axes>"
      ]
     },
     "metadata": {},
     "output_type": "display_data"
    }
   ],
   "source": [
    "df = pd.DataFrame(data)\n",
    "df.plot.box(title=\"boxplot\")\n",
    "plt.grid(linestyle=\"--\", alpha=0.3)\n",
    "plt.show()"
   ]
  },
  {
   "cell_type": "markdown",
   "metadata": {},
   "source": [
    "数据可视化（柱状图）"
   ]
  },
  {
   "cell_type": "code",
   "execution_count": 22,
   "metadata": {},
   "outputs": [
    {
     "data": {
      "image/png": "[encoded data removed]",
      "text/plain": [
       "<Figure size 432x288 with 1 Axes>"
      ]
     },
     "metadata": {},
     "output_type": "display_data"
    }
   ],
   "source": [
    "df['raw_visitor_count'].value_counts().head(10).plot.bar()\n",
    "plt.title(\"raw_visitor_count frequency\")\n",
    "plt.show()"
   ]
  },
  {
   "cell_type": "code",
   "execution_count": 23,
   "metadata": {},
   "outputs": [
    {
     "data": {
      "image/png": "[encoded data removed]",
      "text/plain": [
       "<Figure size 432x288 with 1 Axes>"
      ]
     },
     "metadata": {},
     "output_type": "display_data"
    }
   ],
   "source": [
    "df['distance_from_home'].value_counts().head(10).plot.bar()\n",
    "plt.title(\"distance_from_home frequency\")\n",
    "plt.show()"
   ]
  },
  {
   "cell_type": "markdown",
   "metadata": {},
   "source": [
    "分别对缺失数据进行丢弃、众数填补、基于属性内信息填补"
   ]
  },
  {
   "cell_type": "code",
   "execution_count": 27,
   "metadata": {},
   "outputs": [],
   "source": [
    "# NaN data processing \n",
    "# for example: distance_from_home frequency\n",
    "p1 = df.dropna() #drop \n",
    "\n",
    "dis_mode = df['distance_from_home'].mode()\n",
    "modes = {'distance_from_home':dis_mode}\n",
    "p2 = df.fillna(value=modes)  # filled with mode\n",
    "\n",
    "p3 = df['distance_from_home'].fillna(method=\"ffill\") # filled with neighbor's value"
   ]
  },
  {
   "cell_type": "markdown",
   "metadata": {},
   "source": [
    "缺失数据处理结果与原始数据可视化对比"
   ]
  },
  {
   "cell_type": "code",
   "execution_count": 29,
   "metadata": {},
   "outputs": [
    {
     "name": "stderr",
     "output_type": "stream",
     "text": [
      "D:\\anaconda3\\lib\\site-packages\\matplotlib\\figure.py:98: MatplotlibDeprecationWarning: \n",
      "Adding an axes using the same arguments as a previous axes currently reuses the earlier instance.  In a future version, a new instance will always be created and returned.  Meanwhile, this warning can be suppressed, and the future behavior ensured, by passing a unique label to each axes instance.\n",
      "  \"Adding an axes using the same arguments as a previous axes \"\n"
     ]
    },
    {
     "data": {
      "image/png": "[encoded data removed]",
      "text/plain": [
       "<Figure size 432x288 with 1 Axes>"
      ]
     },
     "metadata": {},
     "output_type": "display_data"
    },
    {
     "data": {
      "image/png": "[encoded data removed]",
      "text/plain": [
       "<Figure size 432x288 with 1 Axes>"
      ]
     },
     "metadata": {},
     "output_type": "display_data"
    }
   ],
   "source": [
    "# compare1\n",
    "plt.subplot(121)\n",
    "ax=df['distance_from_home'].value_counts().head(10).plot.bar(color='DarkBlue')\n",
    "plt.title(\"distance_from_home Origin\")\n",
    "plt.show()\n",
    "\n",
    "plt.subplot(122)\n",
    "bx = p1['distance_from_home'].value_counts().head(10).plot.bar(color='Red')\n",
    "plt.title(\"distance_from_home drop NaN\")\n",
    "plt.show()"
   ]
  },
  {
   "cell_type": "code",
   "execution_count": 31,
   "metadata": {},
   "outputs": [
    {
     "data": {
      "image/png": "[encoded data removed]",
      "text/plain": [
       "<Figure size 432x288 with 1 Axes>"
      ]
     },
     "metadata": {},
     "output_type": "display_data"
    },
    {
     "data": {
      "image/png": "[encoded data removed]",
      "text/plain": [
       "<Figure size 432x288 with 1 Axes>"
      ]
     },
     "metadata": {},
     "output_type": "display_data"
    }
   ],
   "source": [
    "# compare2\n",
    "plt.subplot(121)\n",
    "ax=df['distance_from_home'].value_counts().head(10).plot.bar(color='DarkBlue')\n",
    "plt.title(\"distance_from_home Origin\")\n",
    "plt.show()\n",
    "\n",
    "plt.subplot(122)\n",
    "bx = p2['distance_from_home'].value_counts().head(10).plot.bar(color='Red')\n",
    "plt.title(\"distance_from_home filled with mode\")\n",
    "plt.show()"
   ]
  },
  {
   "cell_type": "code",
   "execution_count": 34,
   "metadata": {},
   "outputs": [
    {
     "data": {
      "image/png": "[encoded data removed]",
      "text/plain": [
       "<Figure size 432x288 with 1 Axes>"
      ]
     },
     "metadata": {},
     "output_type": "display_data"
    },
    {
     "data": {
      "image/png": "[encoded data removed]",
      "text/plain": [
       "<Figure size 432x288 with 1 Axes>"
      ]
     },
     "metadata": {},
     "output_type": "display_data"
    }
   ],
   "source": [
    "# compare3\n",
    "plt.subplot(121)\n",
    "ax=df['distance_from_home'].value_counts().head(10).plot.bar(color='DarkBlue')\n",
    "plt.title(\"distance_from_home Origin\")\n",
    "plt.show()\n",
    "\n",
    "plt.subplot(122)\n",
    "bx = p3.value_counts().head(10).plot.bar(color='Red')\n",
    "plt.title(\"distance_from_home filled with neighbor\")\n",
    "plt.show()"
   ]
  },
  {
   "cell_type": "code",
   "execution_count": null,
   "metadata": {
    "collapsed": true
   },
   "outputs": [],
   "source": []
  }
 ],
 "metadata": {
  "kernelspec": {
   "display_name": "Python 3",
   "language": "python",
   "name": "python3"
  },
  "language_info": {
   "codemirror_mode": {
    "name": "ipython",
    "version": 3
   },
   "file_extension": ".py",
   "mimetype": "text/x-python",
   "name": "python",
   "nbconvert_exporter": "python",
   "pygments_lexer": "ipython3",
   "version": "3.6.3"
  }
 },
 "nbformat": 4,
 "nbformat_minor": 2
}
